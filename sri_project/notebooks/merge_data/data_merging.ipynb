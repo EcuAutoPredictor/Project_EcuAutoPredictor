{
 "cells": [
  {
   "cell_type": "code",
   "execution_count": 61,
   "metadata": {},
   "outputs": [],
   "source": [
    "# 📌 Importar librerías necesarias\n",
    "import pandas as pd\n",
    "import os"
   ]
  },
  {
   "cell_type": "code",
   "execution_count": 62,
   "metadata": {},
   "outputs": [],
   "source": [
    "# 📌 Definir la carpeta donde están los archivos limpios\n",
    "processed_folder = \"../../data/processed/\"  # Carpeta donde están los CSV limpios\n",
    "output_file = os.path.join(processed_folder, \"sri_autos_2017_2024.csv\")  # Archivo final"
   ]
  },
  {
   "cell_type": "code",
   "execution_count": 63,
   "metadata": {},
   "outputs": [],
   "source": [
    "# 📌 Lista de archivos limpios\n",
    "years = list(range(2017, 2025))  # Desde 2017 hasta 2024\n",
    "csv_files = [f\"SRI_Vehiculos_Nuevos_{year}_Limpio.csv\" for year in years]"
   ]
  },
  {
   "cell_type": "code",
   "execution_count": 64,
   "metadata": {},
   "outputs": [],
   "source": [
    "# 📌 Cargar y unir los archivos\n",
    "dataframes = []\n",
    "for file in csv_files:\n",
    "    file_path = os.path.join(processed_folder, file)\n",
    "    \n",
    "    if os.path.exists(file_path):  # Verificar que el archivo existe\n",
    "        df = pd.read_csv(file_path, delimiter=';', encoding=\"latin-1\", low_memory=False)\n",
    "        \n",
    "        \n",
    "        \n",
    "        dataframes.append(df)\n",
    "    else:\n",
    "        print(f\"⚠️ Archivo no encontrado: {file_path}\")"
   ]
  },
  {
   "cell_type": "code",
   "execution_count": 65,
   "metadata": {},
   "outputs": [],
   "source": [
    "# 📌 Unir todos los datasets en un solo archivo\n",
    "df_final = pd.concat(dataframes, ignore_index=True)\n",
    "# 📌 Guardar el dataset unificado\n",
    "df_final.to_csv(output_file, index=False, sep=';')"
   ]
  },
  {
   "cell_type": "code",
   "execution_count": 66,
   "metadata": {},
   "outputs": [
    {
     "data": {
      "text/html": [
       "<div>\n",
       "<style scoped>\n",
       "    .dataframe tbody tr th:only-of-type {\n",
       "        vertical-align: middle;\n",
       "    }\n",
       "\n",
       "    .dataframe tbody tr th {\n",
       "        vertical-align: top;\n",
       "    }\n",
       "\n",
       "    .dataframe thead th {\n",
       "        text-align: right;\n",
       "    }\n",
       "</style>\n",
       "<table border=\"1\" class=\"dataframe\">\n",
       "  <thead>\n",
       "    <tr style=\"text-align: right;\">\n",
       "      <th></th>\n",
       "      <th>marca</th>\n",
       "      <th>modelo</th>\n",
       "      <th>pais</th>\n",
       "      <th>year_modelo</th>\n",
       "      <th>clase</th>\n",
       "      <th>sub_clase</th>\n",
       "      <th>tipo</th>\n",
       "      <th>avaluo</th>\n",
       "      <th>cilindraje</th>\n",
       "      <th>tipo_combustible</th>\n",
       "      <th>color</th>\n",
       "    </tr>\n",
       "  </thead>\n",
       "  <tbody>\n",
       "    <tr>\n",
       "      <th>0</th>\n",
       "      <td>CHEVROLET</td>\n",
       "      <td>D-MAX CRDI 3.0 CD 4X2 TM DIESEL</td>\n",
       "      <td>ECUADOR</td>\n",
       "      <td>2018</td>\n",
       "      <td>CAMIONETA</td>\n",
       "      <td>DOBLE CABINA</td>\n",
       "      <td>LIVIANO</td>\n",
       "      <td>29990</td>\n",
       "      <td>2999</td>\n",
       "      <td>DIESEL</td>\n",
       "      <td>BLA</td>\n",
       "    </tr>\n",
       "    <tr>\n",
       "      <th>1</th>\n",
       "      <td>SUZUKI</td>\n",
       "      <td>SCROSS AC 1.6 5P 4X2 TM</td>\n",
       "      <td>HUNGRIA</td>\n",
       "      <td>2018</td>\n",
       "      <td>AUTOMOVIL</td>\n",
       "      <td>STATION WAGON</td>\n",
       "      <td>LIVIANO</td>\n",
       "      <td>25990</td>\n",
       "      <td>1586</td>\n",
       "      <td>GASOLINA</td>\n",
       "      <td>ROJ</td>\n",
       "    </tr>\n",
       "    <tr>\n",
       "      <th>2</th>\n",
       "      <td>CHEVROLET</td>\n",
       "      <td>D-MAX TD 2.5 CS 4X2 TM DIESEL</td>\n",
       "      <td>ECUADOR</td>\n",
       "      <td>2018</td>\n",
       "      <td>CAMIONETA</td>\n",
       "      <td>CABINA SIMPLE</td>\n",
       "      <td>LIVIANO</td>\n",
       "      <td>27470</td>\n",
       "      <td>2499</td>\n",
       "      <td>DIESEL</td>\n",
       "      <td>PLO</td>\n",
       "    </tr>\n",
       "    <tr>\n",
       "      <th>3</th>\n",
       "      <td>CHEVROLET</td>\n",
       "      <td>SAIL LS AC 1.5 4P 4X2 TM</td>\n",
       "      <td>ECUADOR</td>\n",
       "      <td>2018</td>\n",
       "      <td>AUTOMOVIL</td>\n",
       "      <td>SEDAN</td>\n",
       "      <td>LIVIANO</td>\n",
       "      <td>19490</td>\n",
       "      <td>1485</td>\n",
       "      <td>GASOLINA</td>\n",
       "      <td>ROJ</td>\n",
       "    </tr>\n",
       "    <tr>\n",
       "      <th>4</th>\n",
       "      <td>SUZUKI</td>\n",
       "      <td>GRAND VITARA SZ AC 2.0 5P 4X2 TM</td>\n",
       "      <td>ECUADOR</td>\n",
       "      <td>2018</td>\n",
       "      <td>JEEP</td>\n",
       "      <td>JEEP</td>\n",
       "      <td>LIVIANO</td>\n",
       "      <td>27990</td>\n",
       "      <td>1995</td>\n",
       "      <td>GASOLINA</td>\n",
       "      <td>PLO</td>\n",
       "    </tr>\n",
       "  </tbody>\n",
       "</table>\n",
       "</div>"
      ],
      "text/plain": [
       "       marca                            modelo     pais  year_modelo  \\\n",
       "0  CHEVROLET   D-MAX CRDI 3.0 CD 4X2 TM DIESEL  ECUADOR         2018   \n",
       "1     SUZUKI           SCROSS AC 1.6 5P 4X2 TM  HUNGRIA         2018   \n",
       "2  CHEVROLET     D-MAX TD 2.5 CS 4X2 TM DIESEL  ECUADOR         2018   \n",
       "3  CHEVROLET          SAIL LS AC 1.5 4P 4X2 TM  ECUADOR         2018   \n",
       "4     SUZUKI  GRAND VITARA SZ AC 2.0 5P 4X2 TM  ECUADOR         2018   \n",
       "\n",
       "       clase      sub_clase     tipo avaluo  cilindraje tipo_combustible color  \n",
       "0  CAMIONETA   DOBLE CABINA  LIVIANO  29990        2999           DIESEL   BLA  \n",
       "1  AUTOMOVIL  STATION WAGON  LIVIANO  25990        1586         GASOLINA   ROJ  \n",
       "2  CAMIONETA  CABINA SIMPLE  LIVIANO  27470        2499           DIESEL   PLO  \n",
       "3  AUTOMOVIL          SEDAN  LIVIANO  19490        1485         GASOLINA   ROJ  \n",
       "4       JEEP           JEEP  LIVIANO  27990        1995         GASOLINA   PLO  "
      ]
     },
     "execution_count": 66,
     "metadata": {},
     "output_type": "execute_result"
    }
   ],
   "source": [
    "# 📌 Mostrar vista previa del dataset final\n",
    "df_final.head()"
   ]
  }
 ],
 "metadata": {
  "kernelspec": {
   "display_name": "Python 3",
   "language": "python",
   "name": "python3"
  },
  "language_info": {
   "codemirror_mode": {
    "name": "ipython",
    "version": 3
   },
   "file_extension": ".py",
   "mimetype": "text/x-python",
   "name": "python",
   "nbconvert_exporter": "python",
   "pygments_lexer": "ipython3",
   "version": "3.12.3"
  }
 },
 "nbformat": 4,
 "nbformat_minor": 2
}
