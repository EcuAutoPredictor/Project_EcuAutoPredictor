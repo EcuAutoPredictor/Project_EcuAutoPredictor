{
 "cells": [
  {
   "cell_type": "code",
   "execution_count": 416,
   "metadata": {},
   "outputs": [],
   "source": [
    "# 📌 Importar librerías necesarias\n",
    "import joblib\n",
    "import pandas as pd\n",
    "import numpy as np"
   ]
  },
  {
   "cell_type": "code",
   "execution_count": 417,
   "metadata": {},
   "outputs": [],
   "source": [
    "\n",
    "# 📌 Definir rutas de modelos y encoders\n",
    "model_path = \"../models/random_forest.pkl\"  # Puedes cambiar a \"../models/xgboost.pkl\"\n",
    "encoders_path = \"../models/encoders/\"\n",
    "feature_scaler_path = \"../models/encoders/scaler.pkl\""
   ]
  },
  {
   "cell_type": "code",
   "execution_count": 418,
   "metadata": {},
   "outputs": [],
   "source": [
    "# 📌 Cargar el modelo entrenado\n",
    "model = joblib.load(model_path)"
   ]
  },
  {
   "cell_type": "code",
   "execution_count": 419,
   "metadata": {},
   "outputs": [],
   "source": [
    "# 📌 Cargar los Label Encoders usados en el entrenamiento\n",
    "label_columns = [\"modelo\", \"marca\", \"pais\", \"clase\", \"sub_clase\",\"tipo_combustible\"]\n",
    "label_encoders = {col: joblib.load(f\"{encoders_path}/label_encoder_{col}.pkl\") for col in label_columns}\n"
   ]
  },
  {
   "cell_type": "code",
   "execution_count": 420,
   "metadata": {},
   "outputs": [],
   "source": [
    "# 📌 Datos de un auto nuevo para predecir (Ejemplo)\n",
    "nuevo_auto = {\n",
    "    \"modelo\": \"MUSTANG\",\n",
    "    \"marca\": \"FORD\",\n",
    "    \"pais\": \"ESTADOS UNIDOS\",\n",
    "    \"year_modelo\": 2022,\n",
    "    \"clase\": \"AUTOMOVIL\",\n",
    "    \"sub_clase\": \"CONVERTIBLE\",\n",
    "    \"avaluo\": 55000,\n",
    "    \"cilindraje\": 5000,\n",
    "    \"tipo_combustible\": \"GASOLINA\"\n",
    "}\n"
   ]
  },
  {
   "cell_type": "code",
   "execution_count": 421,
   "metadata": {},
   "outputs": [],
   "source": [
    "# 📌 Convertir los valores categóricos con los Label Encoders\n",
    "for col in label_columns:\n",
    "    if nuevo_auto[col] in label_encoders[col].classes_:\n",
    "        nuevo_auto[col] = label_encoders[col].transform([nuevo_auto[col]])[0]\n",
    "    else:\n",
    "        nuevo_auto[col] = -1  # Si el valor no existe en el entrenamiento, asignamos -1\n",
    "\n"
   ]
  },
  {
   "cell_type": "code",
   "execution_count": 422,
   "metadata": {},
   "outputs": [],
   "source": [
    "# 📌 Convertir a DataFrame para predecir\n",
    "df_nuevo_auto = pd.DataFrame([nuevo_auto])"
   ]
  },
  {
   "cell_type": "code",
   "execution_count": null,
   "metadata": {},
   "outputs": [],
   "source": [
    "# 📌 Normalizar \"avaluo\" y \"cilindraje\" con el mismo escalador usado en el entrenamiento\n",
    "#scaler = joblib.load(feature_scaler_path)\n",
    "#df_nuevo_auto[[\"avaluo\", \"cilindraje\"]] = scaler.transform(df_nuevo_auto[[\"avaluo\", \"cilindraje\"]])\n"
   ]
  },
  {
   "cell_type": "code",
   "execution_count": 424,
   "metadata": {},
   "outputs": [],
   "source": [
    "# 📌 Asegurar que \"avaluo\" no esté en las variables de entrada\n",
    "if \"avaluo\" in df_nuevo_auto.columns:\n",
    "    df_nuevo_auto = df_nuevo_auto.drop(columns=[\"avaluo\"])"
   ]
  },
  {
   "cell_type": "code",
   "execution_count": 425,
   "metadata": {},
   "outputs": [],
   "source": [
    "# 📌 Asegurar que las columnas coincidan con las del modelo\n",
    "df_nuevo_auto = df_nuevo_auto[model.feature_names_in_]"
   ]
  },
  {
   "cell_type": "code",
   "execution_count": 426,
   "metadata": {},
   "outputs": [],
   "source": [
    "# 📌 Hacer la predicción con el modelo\n",
    "predicted_price = model.predict(df_nuevo_auto)[0]"
   ]
  },
  {
   "cell_type": "code",
   "execution_count": 427,
   "metadata": {},
   "outputs": [
    {
     "name": "stdout",
     "output_type": "stream",
     "text": [
      "✅ Precio Predicho para el Auto: $0.42\n"
     ]
    }
   ],
   "source": [
    "print(f\"✅ Precio Predicho para el Auto: ${predicted_price:.2f}\")"
   ]
  }
 ],
 "metadata": {
  "kernelspec": {
   "display_name": "Python 3",
   "language": "python",
   "name": "python3"
  },
  "language_info": {
   "codemirror_mode": {
    "name": "ipython",
    "version": 3
   },
   "file_extension": ".py",
   "mimetype": "text/x-python",
   "name": "python",
   "nbconvert_exporter": "python",
   "pygments_lexer": "ipython3",
   "version": "3.12.3"
  }
 },
 "nbformat": 4,
 "nbformat_minor": 2
}
