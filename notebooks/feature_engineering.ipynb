{
 "cells": [
  {
   "cell_type": "code",
   "execution_count": 1,
   "metadata": {},
   "outputs": [],
   "source": [
    "# Importar librerías necesarias\n",
    "import pandas as pd\n",
    "import joblib\n",
    "from sklearn.preprocessing import LabelEncoder, OneHotEncoder, StandardScaler"
   ]
  },
  {
   "cell_type": "code",
   "execution_count": 2,
   "metadata": {},
   "outputs": [],
   "source": [
    "# Definir ruta del dataset limpio\n",
    "data_path = \"../data/final/sri_autos_final.csv\"\n",
    "output_path = \"../data/final/sri_autos_features.csv\""
   ]
  },
  {
   "cell_type": "code",
   "execution_count": 3,
   "metadata": {},
   "outputs": [],
   "source": [
    "# Cargar el dataset limpio\n",
    "df = pd.read_csv(data_path, delimiter=';', encoding=\"latin-1\", low_memory=False)"
   ]
  },
  {
   "cell_type": "code",
   "execution_count": 4,
   "metadata": {},
   "outputs": [],
   "source": [
    "# Aplicar Label Encoding en variables categóricas principales\n",
    "label_columns = [\"modelo\", \"marca\", \"pais\", \"clase\", \"sub_clase\",\"tipo_combustible\"]\n",
    "label_encoders = {}\n"
   ]
  },
  {
   "cell_type": "code",
   "execution_count": 5,
   "metadata": {},
   "outputs": [
    {
     "name": "stdout",
     "output_type": "stream",
     "text": [
      "Label Encoders guardados correctamente.\n"
     ]
    }
   ],
   "source": [
    "for col in label_columns:\n",
    "    encoder = LabelEncoder()\n",
    "    df[col] = encoder.fit_transform(df[col].astype(str))  # Convertir a string antes de codificar\n",
    "    label_encoders[col] = encoder  # Guardar el encoder\n",
    "\n",
    "    # Guardar el encoder en un archivo para reutilizar en la predicción\n",
    "    joblib.dump(encoder, f\"../models/encoders/label_encoder_{col}.pkl\")\n",
    "\n",
    "print(\"Label Encoders guardados correctamente.\")\n",
    "\n"
   ]
  },
  {
   "cell_type": "code",
   "execution_count": 6,
   "metadata": {},
   "outputs": [],
   "source": [
    "# Guardar el dataset limpio\n",
    "\n",
    "df.to_csv(output_path, index=False, sep=';')"
   ]
  },
  {
   "cell_type": "code",
   "execution_count": 7,
   "metadata": {},
   "outputs": [
    {
     "name": "stdout",
     "output_type": "stream",
     "text": [
      "Número final de columnas: 9\n"
     ]
    }
   ],
   "source": [
    "# Mostrar cantidad de columnas finales\n",
    "print(f\"Número final de columnas: {df.shape[1]}\")\n",
    "\n"
   ]
  },
  {
   "cell_type": "code",
   "execution_count": 8,
   "metadata": {},
   "outputs": [
    {
     "data": {
      "text/html": [
       "<div>\n",
       "<style scoped>\n",
       "    .dataframe tbody tr th:only-of-type {\n",
       "        vertical-align: middle;\n",
       "    }\n",
       "\n",
       "    .dataframe tbody tr th {\n",
       "        vertical-align: top;\n",
       "    }\n",
       "\n",
       "    .dataframe thead th {\n",
       "        text-align: right;\n",
       "    }\n",
       "</style>\n",
       "<table border=\"1\" class=\"dataframe\">\n",
       "  <thead>\n",
       "    <tr style=\"text-align: right;\">\n",
       "      <th></th>\n",
       "      <th>marca</th>\n",
       "      <th>modelo</th>\n",
       "      <th>pais</th>\n",
       "      <th>year_modelo</th>\n",
       "      <th>clase</th>\n",
       "      <th>sub_clase</th>\n",
       "      <th>avaluo</th>\n",
       "      <th>cilindraje</th>\n",
       "      <th>tipo_combustible</th>\n",
       "    </tr>\n",
       "  </thead>\n",
       "  <tbody>\n",
       "    <tr>\n",
       "      <th>0</th>\n",
       "      <td>20</td>\n",
       "      <td>744</td>\n",
       "      <td>10</td>\n",
       "      <td>2018</td>\n",
       "      <td>1</td>\n",
       "      <td>5</td>\n",
       "      <td>29990.0</td>\n",
       "      <td>2999</td>\n",
       "      <td>0</td>\n",
       "    </tr>\n",
       "    <tr>\n",
       "      <th>1</th>\n",
       "      <td>116</td>\n",
       "      <td>2463</td>\n",
       "      <td>17</td>\n",
       "      <td>2018</td>\n",
       "      <td>0</td>\n",
       "      <td>19</td>\n",
       "      <td>25990.0</td>\n",
       "      <td>1586</td>\n",
       "      <td>3</td>\n",
       "    </tr>\n",
       "    <tr>\n",
       "      <th>2</th>\n",
       "      <td>20</td>\n",
       "      <td>765</td>\n",
       "      <td>10</td>\n",
       "      <td>2018</td>\n",
       "      <td>1</td>\n",
       "      <td>0</td>\n",
       "      <td>27470.0</td>\n",
       "      <td>2499</td>\n",
       "      <td>0</td>\n",
       "    </tr>\n",
       "    <tr>\n",
       "      <th>3</th>\n",
       "      <td>20</td>\n",
       "      <td>2416</td>\n",
       "      <td>10</td>\n",
       "      <td>2018</td>\n",
       "      <td>0</td>\n",
       "      <td>18</td>\n",
       "      <td>19490.0</td>\n",
       "      <td>1485</td>\n",
       "      <td>3</td>\n",
       "    </tr>\n",
       "    <tr>\n",
       "      <th>4</th>\n",
       "      <td>116</td>\n",
       "      <td>1296</td>\n",
       "      <td>10</td>\n",
       "      <td>2018</td>\n",
       "      <td>2</td>\n",
       "      <td>15</td>\n",
       "      <td>27990.0</td>\n",
       "      <td>1995</td>\n",
       "      <td>3</td>\n",
       "    </tr>\n",
       "  </tbody>\n",
       "</table>\n",
       "</div>"
      ],
      "text/plain": [
       "   marca  modelo  pais  year_modelo  clase  sub_clase   avaluo  cilindraje  \\\n",
       "0     20     744    10         2018      1          5  29990.0        2999   \n",
       "1    116    2463    17         2018      0         19  25990.0        1586   \n",
       "2     20     765    10         2018      1          0  27470.0        2499   \n",
       "3     20    2416    10         2018      0         18  19490.0        1485   \n",
       "4    116    1296    10         2018      2         15  27990.0        1995   \n",
       "\n",
       "   tipo_combustible  \n",
       "0                 0  \n",
       "1                 3  \n",
       "2                 0  \n",
       "3                 3  \n",
       "4                 3  "
      ]
     },
     "execution_count": 8,
     "metadata": {},
     "output_type": "execute_result"
    }
   ],
   "source": [
    "# 📌 Mostrar vista previa del dataset transformado\n",
    "df.head()"
   ]
  },
  {
   "cell_type": "code",
   "execution_count": null,
   "metadata": {},
   "outputs": [],
   "source": []
  }
 ],
 "metadata": {
  "kernelspec": {
   "display_name": "Python 3",
   "language": "python",
   "name": "python3"
  },
  "language_info": {
   "codemirror_mode": {
    "name": "ipython",
    "version": 3
   },
   "file_extension": ".py",
   "mimetype": "text/x-python",
   "name": "python",
   "nbconvert_exporter": "python",
   "pygments_lexer": "ipython3",
   "version": "3.12.3"
  }
 },
 "nbformat": 4,
 "nbformat_minor": 2
}
