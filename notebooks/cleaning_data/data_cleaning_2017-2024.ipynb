{
 "cells": [
  {
   "cell_type": "code",
   "execution_count": 40,
   "metadata": {},
   "outputs": [],
   "source": [
    "# Importar librerías necesarias\n",
    "import pandas as pd\n",
    "import re\n",
    "import os"
   ]
  },
  {
   "cell_type": "code",
   "execution_count": 41,
   "metadata": {},
   "outputs": [],
   "source": [
    "# 📌 Definir ruta del archivo a limpiar\n",
    "processed_folder = \"../../data/processed/\"\n",
    "final_folder =\"../../data/final/\"\n",
    "input_file = os.path.join(processed_folder, \"sri_autos_2017_2024.csv\")\n",
    "output_file = os.path.join(final_folder, \"sri_autos_final.csv\")\n"
   ]
  },
  {
   "cell_type": "code",
   "execution_count": 42,
   "metadata": {},
   "outputs": [],
   "source": [
    "# 📌 Cargar el dataset\n",
    "df = pd.read_csv(input_file, delimiter=';', encoding=\"latin-1\", low_memory=False)\n",
    "\n"
   ]
  },
  {
   "cell_type": "code",
   "execution_count": 43,
   "metadata": {},
   "outputs": [],
   "source": [
    "# 📌 Seleccionar solo las columnas necesarias\n",
    "columnas_necesarias = ['marca', 'modelo', 'pais', 'year_modelo', 'clase', 'sub_clase',\n",
    "                        'avaluo', 'cilindraje', 'tipo_combustible']"
   ]
  },
  {
   "cell_type": "code",
   "execution_count": 44,
   "metadata": {},
   "outputs": [],
   "source": [
    "# 📌 Filtrar las columnas que existen en el dataset\n",
    "columnas_existentes = [col for col in columnas_necesarias if col in df.columns]\n",
    "df = df[columnas_existentes].copy()"
   ]
  },
  {
   "cell_type": "code",
   "execution_count": 45,
   "metadata": {},
   "outputs": [
    {
     "name": "stdout",
     "output_type": "stream",
     "text": [
      "✅ Datos limpios guardados en: ../../data/final/sri_autos_final.csv\n"
     ]
    }
   ],
   "source": [
    "# 📌 Verificar si la columna \"avaluo\" existe\n",
    "if \"avaluo\" in df.columns:\n",
    "    # 📌 Convertir \"avaluo\" a número (por si tiene valores erróneos)\n",
    "    df[\"avaluo\"] = pd.to_numeric(df[\"avaluo\"], errors='coerce')\n",
    "\n",
    "    # 📌 Filtrar autos con \"avaluo\" <= 100000\n",
    "    df = df[df[\"avaluo\"] <= 100000]\n",
    "\n",
    "    clases_permitidas = [\"AUTOMOVIL\", \"JEEP\", \"CAMIONETA\"]\n",
    "    df_filtrado = df[df[\"clase\"].isin(clases_permitidas)]\n",
    "\n",
    "            \n",
    "\n",
    "    # 📌 Guardar el dataset limpio\n",
    "    df_filtrado.to_csv(output_file, index=False, sep=';')\n",
    "\n",
    "    # 📌 Mostrar mensaje de éxito y vista previa\n",
    "    print(f\"✅ Datos limpios guardados en: {output_file}\")\n",
    "else:\n",
    "    print(\"⚠️ La columna 'avaluo' no se encontró en el dataset.\")"
   ]
  },
  {
   "cell_type": "code",
   "execution_count": null,
   "metadata": {},
   "outputs": [],
   "source": []
  },
  {
   "cell_type": "code",
   "execution_count": 46,
   "metadata": {},
   "outputs": [
    {
     "data": {
      "text/html": [
       "<div>\n",
       "<style scoped>\n",
       "    .dataframe tbody tr th:only-of-type {\n",
       "        vertical-align: middle;\n",
       "    }\n",
       "\n",
       "    .dataframe tbody tr th {\n",
       "        vertical-align: top;\n",
       "    }\n",
       "\n",
       "    .dataframe thead th {\n",
       "        text-align: right;\n",
       "    }\n",
       "</style>\n",
       "<table border=\"1\" class=\"dataframe\">\n",
       "  <thead>\n",
       "    <tr style=\"text-align: right;\">\n",
       "      <th></th>\n",
       "      <th>marca</th>\n",
       "      <th>modelo</th>\n",
       "      <th>pais</th>\n",
       "      <th>year_modelo</th>\n",
       "      <th>clase</th>\n",
       "      <th>sub_clase</th>\n",
       "      <th>avaluo</th>\n",
       "      <th>cilindraje</th>\n",
       "      <th>tipo_combustible</th>\n",
       "    </tr>\n",
       "  </thead>\n",
       "  <tbody>\n",
       "    <tr>\n",
       "      <th>0</th>\n",
       "      <td>CHEVROLET</td>\n",
       "      <td>D-MAX CRDI 3.0 CD 4X2 TM DIESEL</td>\n",
       "      <td>ECUADOR</td>\n",
       "      <td>2018</td>\n",
       "      <td>CAMIONETA</td>\n",
       "      <td>DOBLE CABINA</td>\n",
       "      <td>29990.0</td>\n",
       "      <td>2999</td>\n",
       "      <td>DIESEL</td>\n",
       "    </tr>\n",
       "    <tr>\n",
       "      <th>1</th>\n",
       "      <td>SUZUKI</td>\n",
       "      <td>SCROSS AC 1.6 5P 4X2 TM</td>\n",
       "      <td>HUNGRIA</td>\n",
       "      <td>2018</td>\n",
       "      <td>AUTOMOVIL</td>\n",
       "      <td>STATION WAGON</td>\n",
       "      <td>25990.0</td>\n",
       "      <td>1586</td>\n",
       "      <td>GASOLINA</td>\n",
       "    </tr>\n",
       "    <tr>\n",
       "      <th>2</th>\n",
       "      <td>CHEVROLET</td>\n",
       "      <td>D-MAX TD 2.5 CS 4X2 TM DIESEL</td>\n",
       "      <td>ECUADOR</td>\n",
       "      <td>2018</td>\n",
       "      <td>CAMIONETA</td>\n",
       "      <td>CABINA SIMPLE</td>\n",
       "      <td>27470.0</td>\n",
       "      <td>2499</td>\n",
       "      <td>DIESEL</td>\n",
       "    </tr>\n",
       "    <tr>\n",
       "      <th>3</th>\n",
       "      <td>CHEVROLET</td>\n",
       "      <td>SAIL LS AC 1.5 4P 4X2 TM</td>\n",
       "      <td>ECUADOR</td>\n",
       "      <td>2018</td>\n",
       "      <td>AUTOMOVIL</td>\n",
       "      <td>SEDAN</td>\n",
       "      <td>19490.0</td>\n",
       "      <td>1485</td>\n",
       "      <td>GASOLINA</td>\n",
       "    </tr>\n",
       "    <tr>\n",
       "      <th>4</th>\n",
       "      <td>SUZUKI</td>\n",
       "      <td>GRAND VITARA SZ AC 2.0 5P 4X2 TM</td>\n",
       "      <td>ECUADOR</td>\n",
       "      <td>2018</td>\n",
       "      <td>JEEP</td>\n",
       "      <td>JEEP</td>\n",
       "      <td>27990.0</td>\n",
       "      <td>1995</td>\n",
       "      <td>GASOLINA</td>\n",
       "    </tr>\n",
       "  </tbody>\n",
       "</table>\n",
       "</div>"
      ],
      "text/plain": [
       "       marca                            modelo     pais  year_modelo  \\\n",
       "0  CHEVROLET   D-MAX CRDI 3.0 CD 4X2 TM DIESEL  ECUADOR         2018   \n",
       "1     SUZUKI           SCROSS AC 1.6 5P 4X2 TM  HUNGRIA         2018   \n",
       "2  CHEVROLET     D-MAX TD 2.5 CS 4X2 TM DIESEL  ECUADOR         2018   \n",
       "3  CHEVROLET          SAIL LS AC 1.5 4P 4X2 TM  ECUADOR         2018   \n",
       "4     SUZUKI  GRAND VITARA SZ AC 2.0 5P 4X2 TM  ECUADOR         2018   \n",
       "\n",
       "       clase      sub_clase   avaluo  cilindraje tipo_combustible  \n",
       "0  CAMIONETA   DOBLE CABINA  29990.0        2999           DIESEL  \n",
       "1  AUTOMOVIL  STATION WAGON  25990.0        1586         GASOLINA  \n",
       "2  CAMIONETA  CABINA SIMPLE  27470.0        2499           DIESEL  \n",
       "3  AUTOMOVIL          SEDAN  19490.0        1485         GASOLINA  \n",
       "4       JEEP           JEEP  27990.0        1995         GASOLINA  "
      ]
     },
     "execution_count": 46,
     "metadata": {},
     "output_type": "execute_result"
    }
   ],
   "source": [
    "df.head()"
   ]
  }
 ],
 "metadata": {
  "kernelspec": {
   "display_name": "Python 3",
   "language": "python",
   "name": "python3"
  },
  "language_info": {
   "codemirror_mode": {
    "name": "ipython",
    "version": 3
   },
   "file_extension": ".py",
   "mimetype": "text/x-python",
   "name": "python",
   "nbconvert_exporter": "python",
   "pygments_lexer": "ipython3",
   "version": "3.12.3"
  }
 },
 "nbformat": 4,
 "nbformat_minor": 2
}
